{
 "cells": [
  {
   "cell_type": "code",
   "execution_count": null,
   "metadata": {
    "collapsed": true
   },
   "outputs": [],
   "source": [
    "from indcycle."
   ]
  },
  {
   "cell_type": "markdown",
   "metadata": {},
   "source": [
    "# "
   ]
  },
  {
   "cell_type": "code",
   "execution_count": null,
   "metadata": {},
   "outputs": [],
   "source": [
    "# Initialize Analyzing module\n",
    "research = IndustryCycling(data_path)\n",
    "# Calculate the estimated industrial allocations for each fund, in monthly step, and save to local\n",
    "# This step takes about 5 minutes with 4 cores multi-processing\n",
    "research.get_fund_allocation_est(obs_months=1, multi=True)\n",
    "# Calculate neutralized allocations signals in window of 12 months, and save to local\n",
    "# This step takes about 1.5 minutes\n",
    "neutralized = research.get_fund_neutralized_allocation(obs_months=1, neutralized_months=12)  # , renew=True)\n",
    "# Calculate the t-Stats of the rank_IC for the neutralized signals as the final fund selection indicator\n",
    "fund_cycling_signals = research.cal_signals(neutralized)\n",
    "# Calculate rank_ICs with respect to different lags\n",
    "ic_holder, ic_mean_holder = research.rank_ic_cal(fund_cycling_signals)\n",
    "# Plot IC\n",
    "research.plt_bar_series(pd.Series(ic_mean_holder))\n",
    "research.ic_analysis(ic_holder['1_lags'], True)\n",
    "research.ic_analysis(ic_holder['3_lags'], True)\n",
    "research.ic_analysis(ic_holder['11_lags'], True)\n",
    "# Formulate a simple back_testing on funds based on the selection indicators, splitting into 5 groups\n",
    "research.simple_back_testing(fund_cycling_signals)\n",
    "\n",
    "# Next, constructing the industry cycling strategy\n",
    "# Refer to the report, quarterly industry allocations estimations are need, so we run the allocation\n",
    "# estimation with different parameters and save them for future usage.\n",
    "research.get_fund_allocation_est(obs_months=3, multi=True)\n",
    "# Now we can run back_testing based on the just saved allocations\n",
    "strategy = IndustryCyclingStrategy(data_path)\n",
    "strategy.run()\n",
    "    print(strategy.summary)\n",
    "    strategy.nav.plot()"
   ]
  }
 ],
 "metadata": {
  "kernelspec": {
   "display_name": "Python 2",
   "language": "python",
   "name": "python2"
  },
  "language_info": {
   "codemirror_mode": {
    "name": "ipython",
    "version": 2
   },
   "file_extension": ".py",
   "mimetype": "text/x-python",
   "name": "python",
   "nbconvert_exporter": "python",
   "pygments_lexer": "ipython2",
   "version": "2.7.6"
  }
 },
 "nbformat": 4,
 "nbformat_minor": 0
}
